{
  "nbformat": 4,
  "nbformat_minor": 0,
  "metadata": {
    "colab": {
      "name": "dr_colab2.ipynb",
      "provenance": []
    },
    "kernelspec": {
      "name": "python3",
      "display_name": "Python 3"
    },
    "accelerator": "GPU"
  },
  "cells": [
    {
      "cell_type": "code",
      "metadata": {
        "colab": {
          "base_uri": "https://localhost:8080/"
        },
        "id": "AAlHI9794Wh-",
        "outputId": "a13fdaac-718e-4487-c886-5521073335b6"
      },
      "source": [
        "#ref - https://stackoverflow.com/questions/14463277/how-to-disable-python-warnings\r\n",
        "\r\n",
        "# Basic Libs..\r\n",
        "import multiprocessing\r\n",
        "from multiprocessing.pool import ThreadPool\r\n",
        "import warnings\r\n",
        "warnings.filterwarnings(\"ignore\")\r\n",
        "import pandas as pd\r\n",
        "import numpy as np\r\n",
        "from tqdm import tqdm,tqdm_notebook\r\n",
        "from prettytable import PrettyTable\r\n",
        "import pickle\r\n",
        "import os\r\n",
        "print('CWD is ',os.getcwd())\r\n",
        "\r\n",
        "# Vis Libs..\r\n",
        "from sklearn.manifold import TSNE\r\n",
        "import seaborn as sns\r\n",
        "import matplotlib.pyplot as plt\r\n",
        "%matplotlib inline\r\n",
        "plt.rcParams[\"axes.grid\"] = False\r\n",
        "\r\n",
        "# Image Libs.\r\n",
        "from PIL import Image\r\n",
        "import cv2\r\n",
        "\r\n",
        "# sklearn libs..\r\n",
        "from sklearn.model_selection import train_test_split\r\n",
        "\r\n",
        "# DL Libs..\r\n",
        "import keras\r\n",
        "from keras import applications\r\n",
        "from keras.preprocessing.image import ImageDataGenerator,img_to_array,array_to_img,load_img\r\n",
        "from keras import optimizers,Model,Sequential\r\n",
        "from keras.layers import Input,GlobalAveragePooling2D,Dropout,Dense,Activation\r\n",
        "from keras.callbacks import EarlyStopping,ReduceLROnPlateau"
      ],
      "execution_count": 1,
      "outputs": [
        {
          "output_type": "stream",
          "text": [
            "CWD is  /content\n"
          ],
          "name": "stdout"
        }
      ]
    },
    {
      "cell_type": "code",
      "metadata": {
        "colab": {
          "base_uri": "https://localhost:8080/"
        },
        "id": "lWuVJX_b4Z6F",
        "outputId": "b7ff5903-4fc5-4f9d-c0e0-a862c4387c98"
      },
      "source": [
        "from google.colab import drive\r\n",
        "drive.mount('/content/gdrive')"
      ],
      "execution_count": 2,
      "outputs": [
        {
          "output_type": "stream",
          "text": [
            "Mounted at /content/gdrive\n"
          ],
          "name": "stdout"
        }
      ]
    },
    {
      "cell_type": "code",
      "metadata": {
        "colab": {
          "base_uri": "https://localhost:8080/"
        },
        "id": "5JnSUv_G4Z9T",
        "outputId": "4b0731b5-3517-45a8-c27c-8f0e5b074138"
      },
      "source": [
        "import os\r\n",
        "os.chdir('/content/gdrive/MyDrive/Colab Notebooks')\r\n",
        "print(\"We are currently in the folder of \",os.getcwd())"
      ],
      "execution_count": 3,
      "outputs": [
        {
          "output_type": "stream",
          "text": [
            "We are currently in the folder of  /content/gdrive/MyDrive/Colab Notebooks\n"
          ],
          "name": "stdout"
        }
      ]
    },
    {
      "cell_type": "code",
      "metadata": {
        "id": "dCrfU31VWilo"
      },
      "source": [
        "'''\r\n",
        "This function reads data from the respective train and test directories\r\n",
        "'''\r\n",
        "\r\n",
        "def load_data():\r\n",
        "    train = pd.read_csv('train.csv')\r\n",
        "    test = pd.read_csv('test.csv')\r\n",
        "    \r\n",
        "    train_dir = os.path.join('./','train_images/')\r\n",
        "    test_dir = os.path.join('./','test_images/')\r\n",
        "    \r\n",
        "    train['file_path'] = train['id_code'].map(lambda x: os.path.join(train_dir,'{}.png'.format(x)))\r\n",
        "    test['file_path'] = test['id_code'].map(lambda x: os.path.join(test_dir,'{}.png'.format(x)))\r\n",
        "    \r\n",
        "    train['file_name'] = train[\"id_code\"].apply(lambda x: x + \".png\")\r\n",
        "    test['file_name'] = test[\"id_code\"].apply(lambda x: x + \".png\")\r\n",
        "    \r\n",
        "    train['diagnosis'] = train['diagnosis'].astype(str)\r\n",
        "    \r\n",
        "    return train,test"
      ],
      "execution_count": 4,
      "outputs": []
    },
    {
      "cell_type": "code",
      "metadata": {
        "colab": {
          "base_uri": "https://localhost:8080/",
          "height": 269
        },
        "id": "uNIzERhuWioc",
        "outputId": "f1806ebb-32b9-439f-baf8-c1c53249bdbd"
      },
      "source": [
        "df_train,df_test = load_data()\r\n",
        "print(df_train.shape,df_test.shape,'\\n')\r\n",
        "df_train.head(6)"
      ],
      "execution_count": 5,
      "outputs": [
        {
          "output_type": "stream",
          "text": [
            "(3662, 4) (1928, 3) \n",
            "\n"
          ],
          "name": "stdout"
        },
        {
          "output_type": "execute_result",
          "data": {
            "text/html": [
              "<div>\n",
              "<style scoped>\n",
              "    .dataframe tbody tr th:only-of-type {\n",
              "        vertical-align: middle;\n",
              "    }\n",
              "\n",
              "    .dataframe tbody tr th {\n",
              "        vertical-align: top;\n",
              "    }\n",
              "\n",
              "    .dataframe thead th {\n",
              "        text-align: right;\n",
              "    }\n",
              "</style>\n",
              "<table border=\"1\" class=\"dataframe\">\n",
              "  <thead>\n",
              "    <tr style=\"text-align: right;\">\n",
              "      <th></th>\n",
              "      <th>id_code</th>\n",
              "      <th>diagnosis</th>\n",
              "      <th>file_path</th>\n",
              "      <th>file_name</th>\n",
              "    </tr>\n",
              "  </thead>\n",
              "  <tbody>\n",
              "    <tr>\n",
              "      <th>0</th>\n",
              "      <td>000c1434d8d7</td>\n",
              "      <td>2</td>\n",
              "      <td>./train_images/000c1434d8d7.png</td>\n",
              "      <td>000c1434d8d7.png</td>\n",
              "    </tr>\n",
              "    <tr>\n",
              "      <th>1</th>\n",
              "      <td>001639a390f0</td>\n",
              "      <td>4</td>\n",
              "      <td>./train_images/001639a390f0.png</td>\n",
              "      <td>001639a390f0.png</td>\n",
              "    </tr>\n",
              "    <tr>\n",
              "      <th>2</th>\n",
              "      <td>0024cdab0c1e</td>\n",
              "      <td>1</td>\n",
              "      <td>./train_images/0024cdab0c1e.png</td>\n",
              "      <td>0024cdab0c1e.png</td>\n",
              "    </tr>\n",
              "    <tr>\n",
              "      <th>3</th>\n",
              "      <td>002c21358ce6</td>\n",
              "      <td>0</td>\n",
              "      <td>./train_images/002c21358ce6.png</td>\n",
              "      <td>002c21358ce6.png</td>\n",
              "    </tr>\n",
              "    <tr>\n",
              "      <th>4</th>\n",
              "      <td>005b95c28852</td>\n",
              "      <td>0</td>\n",
              "      <td>./train_images/005b95c28852.png</td>\n",
              "      <td>005b95c28852.png</td>\n",
              "    </tr>\n",
              "    <tr>\n",
              "      <th>5</th>\n",
              "      <td>0083ee8054ee</td>\n",
              "      <td>4</td>\n",
              "      <td>./train_images/0083ee8054ee.png</td>\n",
              "      <td>0083ee8054ee.png</td>\n",
              "    </tr>\n",
              "  </tbody>\n",
              "</table>\n",
              "</div>"
            ],
            "text/plain": [
              "        id_code diagnosis                        file_path         file_name\n",
              "0  000c1434d8d7         2  ./train_images/000c1434d8d7.png  000c1434d8d7.png\n",
              "1  001639a390f0         4  ./train_images/001639a390f0.png  001639a390f0.png\n",
              "2  0024cdab0c1e         1  ./train_images/0024cdab0c1e.png  0024cdab0c1e.png\n",
              "3  002c21358ce6         0  ./train_images/002c21358ce6.png  002c21358ce6.png\n",
              "4  005b95c28852         0  ./train_images/005b95c28852.png  005b95c28852.png\n",
              "5  0083ee8054ee         4  ./train_images/0083ee8054ee.png  0083ee8054ee.png"
            ]
          },
          "metadata": {
            "tags": []
          },
          "execution_count": 5
        }
      ]
    },
    {
      "cell_type": "markdown",
      "metadata": {
        "id": "vrozQWZIYt8-"
      },
      "source": [
        "# **Splitting Data**"
      ]
    },
    {
      "cell_type": "code",
      "metadata": {
        "colab": {
          "base_uri": "https://localhost:8080/"
        },
        "id": "NefdoOWeWt2f",
        "outputId": "52bce670-bbbf-4809-baea-b2c9cdbb3f9f"
      },
      "source": [
        "df_train_train,df_train_valid = train_test_split(df_train,test_size = 0.2)\r\n",
        "print(df_train_train.shape,df_train_valid.shape)"
      ],
      "execution_count": 6,
      "outputs": [
        {
          "output_type": "stream",
          "text": [
            "(2929, 4) (733, 4)\n"
          ],
          "name": "stdout"
        }
      ]
    },
    {
      "cell_type": "code",
      "metadata": {
        "id": "YSPMyAwAWt5G"
      },
      "source": [
        "'''This Function Plots a Bar plot of output Classes Distribution'''\r\n",
        "\r\n",
        "def plot_classes(df,title):\r\n",
        "    df_group = pd.DataFrame(df.groupby('diagnosis').agg('size').reset_index())\r\n",
        "    df_group.columns = ['diagnosis','count']\r\n",
        "\r\n",
        "    sns.set(rc={'figure.figsize':(10,5)}, style = 'whitegrid')\r\n",
        "    sns.barplot(x = 'diagnosis',y='count',data = df_group,palette = \"Blues_d\")\r\n",
        "    plt.title('Output Class Distribution ' + str(title))\r\n",
        "    plt.show() "
      ],
      "execution_count": 7,
      "outputs": []
    },
    {
      "cell_type": "code",
      "metadata": {
        "colab": {
          "base_uri": "https://localhost:8080/",
          "height": 355
        },
        "id": "S55CgoD5Wt8D",
        "outputId": "ec576332-a264-47ea-a574-452b6d1f6022"
      },
      "source": [
        "plot_classes(df_train_train,\"TRAIN DATA\")"
      ],
      "execution_count": 8,
      "outputs": [
        {
          "output_type": "display_data",
          "data": {
            "image/png": "[encoded data removed]",
            "text/plain": [
              "<Figure size 720x360 with 1 Axes>"
            ]
          },
          "metadata": {
            "tags": []
          }
        }
      ]
    },
    {
      "cell_type": "code",
      "metadata": {
        "colab": {
          "base_uri": "https://localhost:8080/",
          "height": 355
        },
        "id": "ld-3iwxjWiq5",
        "outputId": "cc390698-431f-4392-86d0-033ade5c936a"
      },
      "source": [
        "plot_classes(df_train_valid,'VALIDATION DATA')"
      ],
      "execution_count": 9,
      "outputs": [
        {
          "output_type": "display_data",
          "data": {
            "image/png": "[encoded data removed]",
            "text/plain": [
              "<Figure size 720x360 with 1 Axes>"
            ]
          },
          "metadata": {
            "tags": []
          }
        }
      ]
    },
    {
      "cell_type": "code",
      "metadata": {
        "id": "uRbfwMueWiuE"
      },
      "source": [
        "'''\r\n",
        "file = open('df_train_train', 'wb')\r\n",
        "pickle.dump(df_train_train, file)\r\n",
        "file.close()\r\n",
        "\r\n",
        "file = open('df_train_test', 'wb')\r\n",
        "pickle.dump(df_train_test, file)\r\n",
        "file.close()\r\n",
        "'''"
      ],
      "execution_count": null,
      "outputs": []
    },
    {
      "cell_type": "code",
      "metadata": {
        "id": "fLG_v1m-W9zw"
      },
      "source": [
        "file = open('df_train_train', 'rb')\r\n",
        "df_train_train = pickle.load(file)\r\n",
        "file.close()\r\n",
        "\r\n",
        "file = open('df_train_test', 'rb')\r\n",
        "df_train_test = pickle.load(file)\r\n",
        "file.close()"
      ],
      "execution_count": 10,
      "outputs": []
    },
    {
      "cell_type": "code",
      "metadata": {
        "colab": {
          "base_uri": "https://localhost:8080/"
        },
        "id": "YwaQJY25W92Y",
        "outputId": "bcea7266-4684-42a1-a1d8-571be52f6cf5"
      },
      "source": [
        "print(df_train_train.shape,df_train_test.shape)\r\n",
        "print(len(os.listdir('./train_images_resized_preprocessed1')),len(os.listdir('./test_images_resized_preprocessed')))"
      ],
      "execution_count": 11,
      "outputs": [
        {
          "output_type": "stream",
          "text": [
            "(2929, 4) (733, 4)\n",
            "2929 733\n"
          ],
          "name": "stdout"
        }
      ]
    },
    {
      "cell_type": "code",
      "metadata": {
        "id": "Vrorn9i6W95H"
      },
      "source": [
        "IMG_SIZE  = 512"
      ],
      "execution_count": 12,
      "outputs": []
    },
    {
      "cell_type": "markdown",
      "metadata": {
        "id": "a1XB-0ZuXUqm"
      },
      "source": [
        "# **Image Processing**"
      ]
    },
    {
      "cell_type": "code",
      "metadata": {
        "id": "3MeGYl8eXHK_"
      },
      "source": [
        "def crop_image_from_gray(img,tol=7):\r\n",
        "    if img.ndim ==2:\r\n",
        "        mask = img>tol\r\n",
        "        return img[np.ix_(mask.any(1),mask.any(0))]\r\n",
        "    elif img.ndim==3:\r\n",
        "        gray_img = cv2.cvtColor(img, cv2.COLOR_RGB2GRAY)\r\n",
        "        mask = gray_img>tol\r\n",
        "        \r\n",
        "        check_shape = img[:,:,0][np.ix_(mask.any(1),mask.any(0))].shape[0]\r\n",
        "        if (check_shape == 0): # image is too dark so that we crop out everything,\r\n",
        "            return img # return original image\r\n",
        "        else:\r\n",
        "            img1=img[:,:,0][np.ix_(mask.any(1),mask.any(0))]\r\n",
        "            img2=img[:,:,1][np.ix_(mask.any(1),mask.any(0))]\r\n",
        "            img3=img[:,:,2][np.ix_(mask.any(1),mask.any(0))]\r\n",
        "    #         print(img1.shape,img2.shape,img3.shape)\r\n",
        "            img = np.stack([img1,img2,img3],axis=-1)\r\n",
        "    #         print(img.shape)\r\n",
        "        return img\r\n",
        "\r\n",
        "def circle_crop(img, sigmaX = 30):   \r\n",
        "    \"\"\"\r\n",
        "    Create circular crop around image centre    \r\n",
        "    \"\"\"    \r\n",
        "    img = crop_image_from_gray(img)    \r\n",
        "    img = cv2.cvtColor(img, cv2.COLOR_BGR2RGB)\r\n",
        "    \r\n",
        "    height, width, depth = img.shape    \r\n",
        "    \r\n",
        "    x = int(width/2)\r\n",
        "    y = int(height/2)\r\n",
        "    r = np.amin((x,y))\r\n",
        "    \r\n",
        "    circle_img = np.zeros((height, width), np.uint8)\r\n",
        "    cv2.circle(circle_img, (x,y), int(r), 1, thickness=-1)\r\n",
        "    img = cv2.bitwise_and(img, img, mask=circle_img)\r\n",
        "    img = crop_image_from_gray(img)\r\n",
        "    img=cv2.addWeighted(img,4, cv2.GaussianBlur( img , (0,0) , sigmaX) ,-4 ,128)\r\n",
        "    return img \r\n",
        "\r\n",
        "def preprocess_image(file):\r\n",
        "    input_filepath = os.path.join('./','test_images_resized','{}.png'.format(file))\r\n",
        "    output_filepath = os.path.join('./','test_images_resized_preprocessed','{}.png'.format(file))\r\n",
        "    \r\n",
        "    img = cv2.imread(input_filepath)\r\n",
        "    img = circle_crop(img) \r\n",
        "    cv2.imwrite(output_filepath, cv2.resize(img, (IMG_SIZE,IMG_SIZE)))"
      ],
      "execution_count": null,
      "outputs": []
    },
    {
      "cell_type": "code",
      "metadata": {
        "id": "RvEopLxUXHNu"
      },
      "source": [
        "'''This Function uses Multi processing for faster saving of images into folder'''\r\n",
        "\r\n",
        "def multiprocess_image_processor(process:int, imgs:list):\r\n",
        "    \"\"\"\r\n",
        "    Inputs:\r\n",
        "        process: (int) number of process to run\r\n",
        "        imgs:(list) list of images\r\n",
        "    \"\"\"\r\n",
        "    print(f'MESSAGE: Running {process} process')\r\n",
        "    results = ThreadPool(process).map(preprocess_image, imgs)\r\n",
        "    return results"
      ],
      "execution_count": null,
      "outputs": []
    },
    {
      "cell_type": "code",
      "metadata": {
        "id": "TxEVmvVcXHQf"
      },
      "source": [
        "# Use 6 cores\r\n",
        "multiprocess_image_processor(6, list(df_train_test.id_code.values))"
      ],
      "execution_count": null,
      "outputs": []
    }
  ]
}